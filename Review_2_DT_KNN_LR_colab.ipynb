{
  "cells": [
    {
      "cell_type": "markdown",
      "metadata": {
        "id": "view-in-github",
        "colab_type": "text"
      },
      "source": [
        "<a href=\"https://colab.research.google.com/github/samarthgupta19/Stroke-Prediction-CSE-3047-Project-Predicitve-Analytics/blob/main/Review_2_DT_KNN_LR_colab.ipynb\" target=\"_parent\"><img src=\"https://colab.research.google.com/assets/colab-badge.svg\" alt=\"Open In Colab\"/></a>"
      ]
    },
    {
      "cell_type": "markdown",
      "id": "f1e49c92",
      "metadata": {
        "id": "f1e49c92"
      },
      "source": [
        "\n",
        "### Review-2-STROKE RISK PREDICTION\n",
        "\n",
        "### TUSHAR SINGLA-19BDS0029 \n",
        "### SAMARTH GUPTA-19BDS0042 \n",
        "### MRIGANK SACHAN-19BDS0050 "
      ]
    },
    {
      "cell_type": "code",
      "execution_count": null,
      "id": "6aafa44e",
      "metadata": {
        "id": "6aafa44e"
      },
      "outputs": [],
      "source": [
        "# IMPORTANT LIBRARIES AND FUNCTIONS\n",
        "import pandas as pd\n",
        "import matplotlib.pyplot as plt\n",
        "%matplotlib inline\n",
        "import seaborn as sns"
      ]
    },
    {
      "cell_type": "code",
      "execution_count": null,
      "id": "d405a8c5",
      "metadata": {
        "id": "d405a8c5"
      },
      "outputs": [],
      "source": [
        "# READING THE DATASET\n",
        "data=pd.read_csv(r'https://raw.githubusercontent.com/samarthgupta19/Stroke-Prediction-CSE-3047-Project-Predicitve-Analytics/main/healthcare-dataset-stroke-data.csv')"
      ]
    },
    {
      "cell_type": "code",
      "execution_count": null,
      "id": "8a87f7fc",
      "metadata": {
        "id": "8a87f7fc"
      },
      "outputs": [],
      "source": [
        "# SAMPLE DATA\n",
        "data"
      ]
    },
    {
      "cell_type": "code",
      "execution_count": null,
      "id": "353e7835",
      "metadata": {
        "id": "353e7835"
      },
      "outputs": [],
      "source": [
        "# PREPROCESSING AND EXPLORATORY DATA ANALYSIS\n",
        "data.info()"
      ]
    },
    {
      "cell_type": "code",
      "execution_count": null,
      "id": "9d3224cf",
      "metadata": {
        "id": "9d3224cf"
      },
      "outputs": [],
      "source": [
        "data.shape"
      ]
    },
    {
      "cell_type": "code",
      "execution_count": null,
      "id": "39348d09",
      "metadata": {
        "id": "39348d09"
      },
      "outputs": [],
      "source": [
        "data.isnull().sum()"
      ]
    },
    {
      "cell_type": "code",
      "execution_count": null,
      "id": "a2686334",
      "metadata": {
        "id": "a2686334"
      },
      "outputs": [],
      "source": [
        "# FILLING NULL VALUES\n",
        "data['bmi'].value_counts()"
      ]
    },
    {
      "cell_type": "code",
      "execution_count": null,
      "id": "2152a266",
      "metadata": {
        "id": "2152a266"
      },
      "outputs": [],
      "source": [
        "data['bmi'].describe()"
      ]
    },
    {
      "cell_type": "code",
      "execution_count": null,
      "id": "56dd4889",
      "metadata": {
        "id": "56dd4889"
      },
      "outputs": [],
      "source": [
        "# FILL MISSING VALUES WITH MEAN\n",
        "data['bmi'].fillna(data['bmi'].mean(),inplace=True)"
      ]
    },
    {
      "cell_type": "code",
      "execution_count": null,
      "id": "4ff1fe82",
      "metadata": {
        "id": "4ff1fe82"
      },
      "outputs": [],
      "source": [
        "data.isnull().sum()"
      ]
    },
    {
      "cell_type": "code",
      "execution_count": null,
      "id": "b31dbe21",
      "metadata": {
        "id": "b31dbe21"
      },
      "outputs": [],
      "source": [
        "# REMOVE IRRELEVANT COLUMN\n",
        "data.drop('id',axis=1,inplace=True)"
      ]
    },
    {
      "cell_type": "code",
      "execution_count": null,
      "id": "96631115",
      "metadata": {
        "id": "96631115"
      },
      "outputs": [],
      "source": [
        "data"
      ]
    },
    {
      "cell_type": "code",
      "execution_count": null,
      "id": "fc7f2dea",
      "metadata": {
        "id": "fc7f2dea"
      },
      "outputs": [],
      "source": [
        "# CHECK AND REMOVE OUTLIERS\n",
        "from matplotlib.pyplot import figure\n",
        "figure(num=None, figsize=(8, 6), dpi=800, facecolor='r', edgecolor='b')"
      ]
    },
    {
      "cell_type": "code",
      "execution_count": null,
      "id": "6f2bd36e",
      "metadata": {
        "id": "6f2bd36e"
      },
      "outputs": [],
      "source": [
        "data.plot(kind='box')\n",
        "plt.show()"
      ]
    },
    {
      "cell_type": "code",
      "execution_count": null,
      "id": "c58e1657",
      "metadata": {
        "id": "c58e1657"
      },
      "outputs": [],
      "source": [
        "# LABEL ENCODING\n",
        "data.head()\n",
        "from sklearn.preprocessing import LabelEncoder\n",
        "enc=LabelEncoder()"
      ]
    },
    {
      "cell_type": "code",
      "execution_count": null,
      "id": "ee180082",
      "metadata": {
        "id": "ee180082"
      },
      "outputs": [],
      "source": [
        "gender=enc.fit_transform(data['gender'])\n",
        "smoking_status=enc.fit_transform(data['smoking_status'])\n",
        "work_type=enc.fit_transform(data['work_type'])\n",
        "Residence_type=enc.fit_transform(data['Residence_type'])\n",
        "ever_married=enc.fit_transform(data['ever_married'])"
      ]
    },
    {
      "cell_type": "code",
      "execution_count": null,
      "id": "f7c172ec",
      "metadata": {
        "id": "f7c172ec"
      },
      "outputs": [],
      "source": [
        "data['work_type']=work_type\n",
        "data['ever_married']=ever_married\n",
        "data['Residence_type']=Residence_type\n",
        "data['smoking_status']=smoking_status\n",
        "data['gender']=gender"
      ]
    },
    {
      "cell_type": "code",
      "execution_count": null,
      "id": "c33ecd54",
      "metadata": {
        "id": "c33ecd54"
      },
      "outputs": [],
      "source": [
        "data"
      ]
    },
    {
      "cell_type": "code",
      "execution_count": null,
      "id": "2bcbace4",
      "metadata": {
        "id": "2bcbace4"
      },
      "outputs": [],
      "source": [
        "data.info()"
      ]
    },
    {
      "cell_type": "code",
      "execution_count": null,
      "id": "6885f253",
      "metadata": {
        "id": "6885f253"
      },
      "outputs": [],
      "source": [
        "# DATASET SPLIT INTO TRAIN AND TEST (80:20 RATIO)\n",
        "\n",
        "# REMOVE TARGET VARIABLE FOR TEST\n",
        "X=data.drop('stroke',axis=1)"
      ]
    },
    {
      "cell_type": "code",
      "execution_count": null,
      "id": "9bcce69a",
      "metadata": {
        "id": "9bcce69a"
      },
      "outputs": [],
      "source": [
        "X.head()"
      ]
    },
    {
      "cell_type": "code",
      "execution_count": null,
      "id": "d7e39fb5",
      "metadata": {
        "id": "d7e39fb5"
      },
      "outputs": [],
      "source": [
        "Y=data['stroke']"
      ]
    },
    {
      "cell_type": "code",
      "execution_count": null,
      "id": "154068f0",
      "metadata": {
        "id": "154068f0"
      },
      "outputs": [],
      "source": [
        "Y"
      ]
    },
    {
      "cell_type": "code",
      "execution_count": null,
      "id": "45fb73b2",
      "metadata": {
        "id": "45fb73b2"
      },
      "outputs": [],
      "source": [
        "from sklearn.model_selection import train_test_split\n",
        "X_train, X_test, Y_train, Y_test=train_test_split(X,Y,test_size=0.2,random_state=10)"
      ]
    },
    {
      "cell_type": "code",
      "execution_count": null,
      "id": "ae5a0706",
      "metadata": {
        "id": "ae5a0706"
      },
      "outputs": [],
      "source": [
        "X_train"
      ]
    },
    {
      "cell_type": "code",
      "execution_count": null,
      "id": "30c7254d",
      "metadata": {
        "id": "30c7254d"
      },
      "outputs": [],
      "source": [
        "Y_train"
      ]
    },
    {
      "cell_type": "code",
      "execution_count": null,
      "id": "fafce9ce",
      "metadata": {
        "id": "fafce9ce"
      },
      "outputs": [],
      "source": [
        "X_test"
      ]
    },
    {
      "cell_type": "code",
      "execution_count": null,
      "id": "c28e2e23",
      "metadata": {
        "id": "c28e2e23"
      },
      "outputs": [],
      "source": [
        "Y_test"
      ]
    },
    {
      "cell_type": "code",
      "execution_count": null,
      "id": "b2ad238e",
      "metadata": {
        "id": "b2ad238e"
      },
      "outputs": [],
      "source": [
        "# DATA NORMALIZATION (SCALING)\n",
        "data.describe()\n",
        "from sklearn.preprocessing import StandardScaler\n",
        "std=StandardScaler()"
      ]
    },
    {
      "cell_type": "code",
      "execution_count": null,
      "id": "27e1f8fb",
      "metadata": {
        "id": "27e1f8fb"
      },
      "outputs": [],
      "source": [
        "X_train_std=std.fit_transform(X_train)\n",
        "X_test_std=std.transform(X_test)"
      ]
    },
    {
      "cell_type": "code",
      "execution_count": null,
      "id": "b4a19b10",
      "metadata": {
        "id": "b4a19b10"
      },
      "outputs": [],
      "source": [
        "X_train_std"
      ]
    },
    {
      "cell_type": "code",
      "execution_count": null,
      "id": "86c1869f",
      "metadata": {
        "id": "86c1869f"
      },
      "outputs": [],
      "source": [
        "X_test_std"
      ]
    },
    {
      "cell_type": "code",
      "execution_count": null,
      "id": "8a5445a4",
      "metadata": {
        "id": "8a5445a4"
      },
      "outputs": [],
      "source": [
        "from sklearn.metrics import accuracy_score\n",
        "# IMPLEMENTING ML ALGORITHMS :"
      ]
    },
    {
      "cell_type": "code",
      "execution_count": null,
      "id": "0cece44b",
      "metadata": {
        "id": "0cece44b"
      },
      "outputs": [],
      "source": [
        "# LOGISTIC REGRESSION\n",
        "\n",
        "from sklearn.linear_model import LogisticRegression\n",
        "lr=LogisticRegression()"
      ]
    },
    {
      "cell_type": "code",
      "execution_count": null,
      "id": "a32d6608",
      "metadata": {
        "id": "a32d6608"
      },
      "outputs": [],
      "source": [
        "lr.fit(X_train_std,Y_train)"
      ]
    },
    {
      "cell_type": "code",
      "execution_count": null,
      "id": "113177d0",
      "metadata": {
        "id": "113177d0"
      },
      "outputs": [],
      "source": [
        "Y_pred_lr=lr.predict(X_test_std)"
      ]
    },
    {
      "cell_type": "code",
      "execution_count": null,
      "id": "6e604170",
      "metadata": {
        "id": "6e604170"
      },
      "outputs": [],
      "source": [
        "Y_pred_lr"
      ]
    },
    {
      "cell_type": "code",
      "execution_count": null,
      "id": "e808bf38",
      "metadata": {
        "id": "e808bf38"
      },
      "outputs": [],
      "source": [
        "ac_lr=accuracy_score(Y_test,Y_pred_lr)"
      ]
    },
    {
      "cell_type": "code",
      "execution_count": null,
      "id": "108b98c7",
      "metadata": {
        "id": "108b98c7"
      },
      "outputs": [],
      "source": [
        "ac_lr"
      ]
    },
    {
      "cell_type": "code",
      "execution_count": null,
      "id": "40f1d816",
      "metadata": {
        "id": "40f1d816"
      },
      "outputs": [],
      "source": [
        "# DECISION TREE\n",
        "\n",
        "from sklearn.tree import DecisionTreeClassifier\n",
        "dt=DecisionTreeClassifier()"
      ]
    },
    {
      "cell_type": "code",
      "execution_count": null,
      "id": "4ba54053",
      "metadata": {
        "id": "4ba54053"
      },
      "outputs": [],
      "source": [
        "dt.fit(X_train_std,Y_train)"
      ]
    },
    {
      "cell_type": "code",
      "execution_count": null,
      "id": "f296f9f2",
      "metadata": {
        "id": "f296f9f2"
      },
      "outputs": [],
      "source": [
        "dt.feature_importances_"
      ]
    },
    {
      "cell_type": "code",
      "execution_count": null,
      "id": "1d79123a",
      "metadata": {
        "id": "1d79123a"
      },
      "outputs": [],
      "source": [
        "X_train.columns"
      ]
    },
    {
      "cell_type": "code",
      "execution_count": null,
      "id": "1f18db23",
      "metadata": {
        "id": "1f18db23"
      },
      "outputs": [],
      "source": [
        "Y_pred=dt.predict(X_test_std)"
      ]
    },
    {
      "cell_type": "code",
      "execution_count": null,
      "id": "8aeede20",
      "metadata": {
        "id": "8aeede20"
      },
      "outputs": [],
      "source": [
        "Y_pred"
      ]
    },
    {
      "cell_type": "code",
      "execution_count": null,
      "id": "815a679c",
      "metadata": {
        "id": "815a679c"
      },
      "outputs": [],
      "source": [
        "from sklearn.metrics import accuracy_score"
      ]
    },
    {
      "cell_type": "code",
      "execution_count": null,
      "id": "3a600abd",
      "metadata": {
        "id": "3a600abd"
      },
      "outputs": [],
      "source": [
        "ac_dt=accuracy_score(Y_test,Y_pred)"
      ]
    },
    {
      "cell_type": "code",
      "execution_count": null,
      "id": "b84c2c5c",
      "metadata": {
        "id": "b84c2c5c"
      },
      "outputs": [],
      "source": [
        "ac_dt"
      ]
    },
    {
      "cell_type": "code",
      "execution_count": null,
      "id": "0ebd0358",
      "metadata": {
        "id": "0ebd0358"
      },
      "outputs": [],
      "source": [
        "# KNN ALGORITHM\n",
        "\n",
        "from sklearn.neighbors import KNeighborsClassifier\n",
        "knn=KNeighborsClassifier()"
      ]
    },
    {
      "cell_type": "code",
      "execution_count": null,
      "id": "106a1371",
      "metadata": {
        "id": "106a1371"
      },
      "outputs": [],
      "source": [
        "knn.fit(X_train_std,Y_train)"
      ]
    },
    {
      "cell_type": "code",
      "execution_count": null,
      "id": "8a43081b",
      "metadata": {
        "id": "8a43081b"
      },
      "outputs": [],
      "source": [
        "Y_pred=knn.predict(X_test_std)"
      ]
    },
    {
      "cell_type": "code",
      "execution_count": null,
      "id": "6e1de476",
      "metadata": {
        "id": "6e1de476"
      },
      "outputs": [],
      "source": [
        "ac_knn=accuracy_score(Y_test,Y_pred)"
      ]
    },
    {
      "cell_type": "code",
      "execution_count": null,
      "id": "6c46142b",
      "metadata": {
        "id": "6c46142b"
      },
      "outputs": [],
      "source": [
        "ac_knn"
      ]
    },
    {
      "cell_type": "code",
      "execution_count": null,
      "id": "acede8d7",
      "metadata": {
        "id": "acede8d7"
      },
      "outputs": [],
      "source": [
        "# RANDOM FOREST\n",
        "from sklearn.ensemble import RandomForestClassifier\n",
        "rf=RandomForestClassifier()\n",
        "rf.fit(X_train_std,Y_train)\n",
        "# Random forest classifier()\n",
        "Y_pred=rf.predict(X_test_std)"
      ]
    },
    {
      "cell_type": "code",
      "source": [
        "ac_rf=accuracy_score(Y_test,Y_pred)\n",
        "ac_rf"
      ],
      "metadata": {
        "id": "3OLBXxqTpd6a"
      },
      "id": "3OLBXxqTpd6a",
      "execution_count": null,
      "outputs": []
    },
    {
      "cell_type": "code",
      "source": [
        "ac_knn"
      ],
      "metadata": {
        "id": "gh_4fn7XqVPV"
      },
      "id": "gh_4fn7XqVPV",
      "execution_count": null,
      "outputs": []
    },
    {
      "cell_type": "code",
      "source": [
        "ac_dt"
      ],
      "metadata": {
        "id": "FLsqr-h3qb83"
      },
      "id": "FLsqr-h3qb83",
      "execution_count": null,
      "outputs": []
    },
    {
      "cell_type": "code",
      "source": [
        "ac_lr"
      ],
      "metadata": {
        "id": "r5Efc8_Uqf0T"
      },
      "id": "r5Efc8_Uqf0T",
      "execution_count": null,
      "outputs": []
    },
    {
      "cell_type": "code",
      "execution_count": null,
      "id": "ea2e7b4b",
      "metadata": {
        "id": "ea2e7b4b"
      },
      "outputs": [],
      "source": [
        "# SUPPORT VECTOR MACHINE (SVM)\n",
        "from sklearn.svm import SVC\n",
        "sv=SVC()\n",
        "sv.fit(X_train_std,Y_train)\n",
        "Y_pred=sv.predict(X_test_std)\n",
        "ac_sv=accuracy_score(Y_test,Y_pred)"
      ]
    },
    {
      "cell_type": "code",
      "source": [
        "ac_sv"
      ],
      "metadata": {
        "colab": {
          "base_uri": "https://localhost:8080/"
        },
        "id": "XSqpznvcrMbM",
        "outputId": "f19f8b29-25bb-425f-ce22-104622b5e459"
      },
      "id": "XSqpznvcrMbM",
      "execution_count": null,
      "outputs": [
        {
          "output_type": "execute_result",
          "data": {
            "text/plain": [
              "0.9393346379647749"
            ]
          },
          "metadata": {},
          "execution_count": 70
        }
      ]
    },
    {
      "cell_type": "code",
      "source": [
        "ac_lr"
      ],
      "metadata": {
        "colab": {
          "base_uri": "https://localhost:8080/"
        },
        "id": "MuoCIJVqrQXz",
        "outputId": "bb92bb3c-8d2e-42ef-ac63-903dd7bc8c3e"
      },
      "id": "MuoCIJVqrQXz",
      "execution_count": null,
      "outputs": [
        {
          "output_type": "execute_result",
          "data": {
            "text/plain": [
              "0.9383561643835616"
            ]
          },
          "metadata": {},
          "execution_count": 71
        }
      ]
    }
  ],
  "metadata": {
    "kernelspec": {
      "display_name": "Python 3 (ipykernel)",
      "language": "python",
      "name": "python3"
    },
    "language_info": {
      "codemirror_mode": {
        "name": "ipython",
        "version": 3
      },
      "file_extension": ".py",
      "mimetype": "text/x-python",
      "name": "python",
      "nbconvert_exporter": "python",
      "pygments_lexer": "ipython3",
      "version": "3.9.7"
    },
    "colab": {
      "name": "Review-2_DT-KNN-LR.ipynb",
      "provenance": [],
      "collapsed_sections": [],
      "include_colab_link": true
    }
  },
  "nbformat": 4,
  "nbformat_minor": 5
}